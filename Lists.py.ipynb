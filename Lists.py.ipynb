{
 "cells": [
  {
   "cell_type": "code",
   "execution_count": 2,
   "id": "869cade1",
   "metadata": {},
   "outputs": [
    {
     "name": "stdout",
     "output_type": "stream",
     "text": [
      "[3, 4, 5, 6]\n"
     ]
    }
   ],
   "source": [
    "#list methods \n",
    "#append()\n",
    "my_list = [3,4,5]\n",
    "my_list.append(6)\n",
    "print(my_list)"
   ]
  },
  {
   "cell_type": "code",
   "execution_count": 3,
   "id": "2807db23",
   "metadata": {},
   "outputs": [
    {
     "name": "stdout",
     "output_type": "stream",
     "text": [
      "[1, 4, 2, 3]\n"
     ]
    }
   ],
   "source": [
    "#insert()\n",
    "my_list = [1, 2, 3]\n",
    "my_list.insert(1, 4)\n",
    "print(my_list)\n",
    "# my_list is now [1, 4, 2, 3]\n"
   ]
  },
  {
   "cell_type": "code",
   "execution_count": 4,
   "id": "9663ebf4",
   "metadata": {},
   "outputs": [
    {
     "name": "stdout",
     "output_type": "stream",
     "text": [
      "[1, 3, 2]\n"
     ]
    }
   ],
   "source": [
    "#remove\n",
    "my_list = [1, 2, 3, 2]\n",
    "my_list.remove(2)\n",
    "print(my_list)\n",
    "# my_list is now [1, 3, 2]\n"
   ]
  },
  {
   "cell_type": "code",
   "execution_count": 5,
   "id": "86697218",
   "metadata": {},
   "outputs": [
    {
     "name": "stdout",
     "output_type": "stream",
     "text": [
      "[1, 2, 3]\n"
     ]
    }
   ],
   "source": [
    "#Copy()\n",
    "my_list = [1, 2, 3]\n",
    "new_list = my_list.copy()\n",
    "print(new_list)\n",
    "# new_list is [1, 2, 3]\n"
   ]
  },
  {
   "cell_type": "code",
   "execution_count": 7,
   "id": "5cfd27e5",
   "metadata": {},
   "outputs": [
    {
     "name": "stdout",
     "output_type": "stream",
     "text": [
      "3\n"
     ]
    }
   ],
   "source": [
    "#count()\n",
    "my_list = [1, 2, 3, 2, 2]\n",
    "count = my_list.count(2)\n",
    "print(count)\n",
    "# count is 3\n"
   ]
  },
  {
   "cell_type": "code",
   "execution_count": 8,
   "id": "87173c82",
   "metadata": {},
   "outputs": [
    {
     "name": "stdout",
     "output_type": "stream",
     "text": [
      "[1, 2, 3, 4, 5]\n"
     ]
    }
   ],
   "source": [
    "#extend\n",
    "my_list = [1, 2, 3]\n",
    "my_list.extend([4, 5])\n",
    "print(my_list)\n",
    "# my_list is now [1, 2, 3, 4, 5]\n"
   ]
  },
  {
   "cell_type": "code",
   "execution_count": 10,
   "id": "d44bea19",
   "metadata": {},
   "outputs": [
    {
     "name": "stdout",
     "output_type": "stream",
     "text": [
      "1\n"
     ]
    }
   ],
   "source": [
    "#indexing\n",
    "my_list = [1, 2, 3, 2]\n",
    "index = my_list.index(2)\n",
    "# index is 1\n",
    "print(index)"
   ]
  },
  {
   "cell_type": "code",
   "execution_count": 11,
   "id": "f537696f",
   "metadata": {},
   "outputs": [
    {
     "name": "stdout",
     "output_type": "stream",
     "text": [
      "[1, 2, 3]\n"
     ]
    }
   ],
   "source": [
    "#sorting\n",
    "my_list = [3, 1, 2]\n",
    "my_list.sort()\n",
    "# my_list is now [1, 2, 3]\n",
    "print(my_list)"
   ]
  },
  {
   "cell_type": "code",
   "execution_count": 12,
   "id": "a643a337",
   "metadata": {},
   "outputs": [
    {
     "name": "stdout",
     "output_type": "stream",
     "text": [
      "[3, 2, 1]\n"
     ]
    }
   ],
   "source": [
    "#reverse()\n",
    "my_list = [1, 2, 3]\n",
    "my_list.reverse()\n",
    "print(my_list)\n",
    "# my_list is now [3, 2, 1]\n"
   ]
  },
  {
   "cell_type": "code",
   "execution_count": 13,
   "id": "6b180cf4",
   "metadata": {},
   "outputs": [
    {
     "name": "stdout",
     "output_type": "stream",
     "text": [
      "[]\n"
     ]
    }
   ],
   "source": [
    "my_list = [1, 2, 3]\n",
    "my_list.clear()\n",
    "print(my_list)\n",
    "# my_list is now []\n"
   ]
  },
  {
   "cell_type": "code",
   "execution_count": 14,
   "id": "bbd2627f",
   "metadata": {},
   "outputs": [
    {
     "name": "stdout",
     "output_type": "stream",
     "text": [
      "[1, 2]\n"
     ]
    }
   ],
   "source": [
    "my_list = [1, 2, 3]\n",
    "element = my_list.pop()\n",
    "print(my_list)\n",
    "# element is 3, my_list is now [1, 2]\n"
   ]
  },
  {
   "cell_type": "code",
   "execution_count": 16,
   "id": "0076d23d",
   "metadata": {},
   "outputs": [
    {
     "name": "stdout",
     "output_type": "stream",
     "text": [
      "20\n"
     ]
    }
   ],
   "source": [
    "#indexing\n",
    "#Retrieve\n",
    "my_list = [10, 20, 30, 40, 50]\n",
    "element = my_list[1]\n",
    "print(element)\n",
    "# element is 20\n",
    "\n"
   ]
  },
  {
   "cell_type": "code",
   "execution_count": 17,
   "id": "9352764d",
   "metadata": {},
   "outputs": [],
   "source": [
    "my_list = [10, 20, 30, 40, 50]\n",
    "my_list[1] = 200\n",
    "# my_list is now [10, 200, 30, 40, 50]\n"
   ]
  },
  {
   "cell_type": "code",
   "execution_count": 18,
   "id": "14491bc2",
   "metadata": {},
   "outputs": [],
   "source": [
    "my_list = [10, 20, 30, 40, 50]\n",
    "element = my_list[-1]\n",
    "# element is 50\n"
   ]
  },
  {
   "cell_type": "code",
   "execution_count": 19,
   "id": "0a17239e",
   "metadata": {},
   "outputs": [],
   "source": [
    "my_list = [10, 20, 30, 40, 50]\n",
    "my_list[-1] = 500\n",
    "# my_list is now [10, 20, 30, 40, 500]\n"
   ]
  },
  {
   "cell_type": "code",
   "execution_count": 20,
   "id": "a420c3eb",
   "metadata": {},
   "outputs": [],
   "source": [
    "my_list = [10, 20, 30, 40, 50]\n",
    "my_list[-1] = 500\n",
    "# my_list is now [10, 20, 30, 40, 500]\n"
   ]
  },
  {
   "cell_type": "code",
   "execution_count": 21,
   "id": "5384b9ef",
   "metadata": {},
   "outputs": [],
   "source": [
    "my_list = [10, 20, 30, 40, 50]\n",
    "my_list[1:4] = [200, 300, 400]\n",
    "# my_list is now [10, 200, 300, 400, 50]\n"
   ]
  },
  {
   "cell_type": "code",
   "execution_count": 22,
   "id": "3f605228",
   "metadata": {},
   "outputs": [],
   "source": [
    "my_list = [10, 20, 30, 40, 50]\n",
    "del my_list[1:4]\n",
    "# my_list is now [10, 50]\n"
   ]
  },
  {
   "cell_type": "code",
   "execution_count": 23,
   "id": "be22bb0d",
   "metadata": {},
   "outputs": [],
   "source": [
    "my_list = [10, 50]\n",
    "my_list[1:1] = [20, 30, 40]\n",
    "# my_list is now [10, 20, 30, 40, 50]\n"
   ]
  },
  {
   "cell_type": "code",
   "execution_count": 24,
   "id": "463d54bb",
   "metadata": {},
   "outputs": [],
   "source": [
    "my_list = [10, 20, 30, 40, 50]\n",
    "slice_of_list = my_list[-4:-1]\n",
    "# slice_of_list is [20, 30, 40]\n"
   ]
  },
  {
   "cell_type": "code",
   "execution_count": 25,
   "id": "b5cd7b99",
   "metadata": {},
   "outputs": [],
   "source": [
    "my_list = [10, 20, 30, 40, 50]\n",
    "my_list[-4:-1] = [200, 300, 400]\n",
    "# my_list is now [10, 200, 300, 400, 50]\n"
   ]
  },
  {
   "cell_type": "code",
   "execution_count": 26,
   "id": "da368d7b",
   "metadata": {},
   "outputs": [],
   "source": [
    "my_list = [10, 20, 30, 40, 50]\n",
    "del my_list[-4:-1]\n",
    "# my_list is now [10, 50]\n"
   ]
  },
  {
   "cell_type": "code",
   "execution_count": 27,
   "id": "d324dfd4",
   "metadata": {},
   "outputs": [],
   "source": [
    "my_list = [10, 50]\n",
    "my_list[-1:-1] = [20, 30, 40]\n",
    "# my_list is now [10, 20, 30, 40, 50]\n"
   ]
  },
  {
   "cell_type": "code",
   "execution_count": 28,
   "id": "0c89914e",
   "metadata": {},
   "outputs": [],
   "source": [
    "from functools import reduce\n",
    "\n",
    "# Sum of elements\n",
    "numbers = [1, 2, 3, 4]\n",
    "sum_of_numbers = reduce(lambda x, y: x + y, numbers)\n",
    "# sum_of_numbers is 10\n"
   ]
  },
  {
   "cell_type": "code",
   "execution_count": 29,
   "id": "31338203",
   "metadata": {},
   "outputs": [],
   "source": [
    "# Square of elements\n",
    "numbers = [1, 2, 3, 4]\n",
    "squared_numbers = list(map(lambda x: x**2, numbers))\n",
    "# squared_numbers is [1, 4, 9, 16]\n"
   ]
  },
  {
   "cell_type": "code",
   "execution_count": 30,
   "id": "ee6987cb",
   "metadata": {},
   "outputs": [],
   "source": [
    "# Square of elements\n",
    "numbers = [1, 2, 3, 4]\n",
    "squared_numbers = list(map(lambda x: x**2, numbers))\n",
    "# squared_numbers is [1, 4, 9, 16]\n"
   ]
  },
  {
   "cell_type": "code",
   "execution_count": 31,
   "id": "5763699d",
   "metadata": {},
   "outputs": [],
   "source": [
    "# Zipping two lists\n",
    "list1 = [1, 2, 3]\n",
    "list2 = ['a', 'b', 'c']\n",
    "zipped = list(zip(list1, list2))\n",
    "# zipped is [(1, 'a'), (2, 'b'), (3, 'c')]\n"
   ]
  },
  {
   "cell_type": "code",
   "execution_count": null,
   "id": "b0c59006",
   "metadata": {},
   "outputs": [],
   "source": []
  }
 ],
 "metadata": {
  "kernelspec": {
   "display_name": "Python 3 (ipykernel)",
   "language": "python",
   "name": "python3"
  },
  "language_info": {
   "codemirror_mode": {
    "name": "ipython",
    "version": 3
   },
   "file_extension": ".py",
   "mimetype": "text/x-python",
   "name": "python",
   "nbconvert_exporter": "python",
   "pygments_lexer": "ipython3",
   "version": "3.11.4"
  }
 },
 "nbformat": 4,
 "nbformat_minor": 5
}
