{
 "cells": [
  {
   "cell_type": "code",
   "execution_count": 1,
   "id": "7e3cd01f",
   "metadata": {},
   "outputs": [],
   "source": [
    "import sqlite3\n",
    "import pandas as pd\n"
   ]
  },
  {
   "cell_type": "code",
   "execution_count": 2,
   "id": "a8852bf9",
   "metadata": {},
   "outputs": [],
   "source": [
    "\n",
    "# Connect to an in-memory SQLite database\n",
    "conn = sqlite3.connect(':memory:')\n",
    "cursor = conn.cursor()\n",
    "\n"
   ]
  },
  {
   "cell_type": "code",
   "execution_count": 3,
   "id": "3edbca42",
   "metadata": {},
   "outputs": [],
   "source": [
    "# DDL: Create a table\n",
    "cursor.execute('''\n",
    "CREATE TABLE employees (\n",
    "    id INTEGER PRIMARY KEY,\n",
    "    name TEXT NOT NULL,\n",
    "    position TEXT NOT NULL,\n",
    "    salary REAL NOT NULL,\n",
    "    department TEXT\n",
    ")\n",
    "''')\n",
    "conn.commit()"
   ]
  },
  {
   "cell_type": "code",
   "execution_count": 4,
   "id": "2073cf50",
   "metadata": {},
   "outputs": [],
   "source": [
    "# DML: Insert data into the table\n",
    "cursor.execute(\"INSERT INTO employees (name, position, salary, department) VALUES ('John Doe', 'Manager', 60000, 'Sales')\")\n",
    "cursor.execute(\"INSERT INTO employees (name, position, salary, department) VALUES ('Jane Smith', 'Developer', 80000, 'IT')\")\n",
    "cursor.execute(\"INSERT INTO employees (name, position, salary, department) VALUES ('Emily Johnson', 'Analyst', 70000, 'Finance')\")\n",
    "conn.commit()"
   ]
  },
  {
   "cell_type": "code",
   "execution_count": 5,
   "id": "1b0f28e0",
   "metadata": {},
   "outputs": [
    {
     "name": "stdout",
     "output_type": "stream",
     "text": [
      "Initial data in employees table:\n",
      "   id           name   position   salary department\n",
      "0   1       John Doe    Manager  60000.0      Sales\n",
      "1   2     Jane Smith  Developer  80000.0         IT\n",
      "2   3  Emily Johnson    Analyst  70000.0    Finance\n"
     ]
    }
   ],
   "source": [
    "# DML: Select data from the table\n",
    "df = pd.read_sql_query(\"SELECT * FROM employees\", conn)\n",
    "print(\"Initial data in employees table:\")\n",
    "print(df)"
   ]
  },
  {
   "cell_type": "code",
   "execution_count": 6,
   "id": "81abaf52",
   "metadata": {},
   "outputs": [],
   "source": [
    "# DDL: Alter the table to add a new column\n",
    "cursor.execute(\"ALTER TABLE employees ADD COLUMN hire_date TEXT\")\n",
    "conn.commit()"
   ]
  },
  {
   "cell_type": "code",
   "execution_count": 7,
   "id": "ef809ff7",
   "metadata": {},
   "outputs": [],
   "source": [
    "cursor.execute(\"UPDATE employees SET salary = 65000 WHERE name = 'John Doe'\")\n",
    "conn.commit()"
   ]
  },
  {
   "cell_type": "code",
   "execution_count": 8,
   "id": "d029dda4",
   "metadata": {},
   "outputs": [],
   "source": [
    "cursor.execute(\"DELETE FROM employees WHERE name = 'Emily Johnson'\")\n",
    "conn.commit()\n"
   ]
  },
  {
   "cell_type": "code",
   "execution_count": 9,
   "id": "f3b968c4",
   "metadata": {},
   "outputs": [
    {
     "name": "stdout",
     "output_type": "stream",
     "text": [
      "\n",
      "Data in employees table after updates:\n",
      "   id        name   position   salary department hire_date\n",
      "0   1    John Doe    Manager  65000.0      Sales      None\n",
      "1   2  Jane Smith  Developer  80000.0         IT      None\n"
     ]
    }
   ],
   "source": [
    "# DML: Select data from the table after updates\n",
    "df = pd.read_sql_query(\"SELECT * FROM employees\", conn)\n",
    "print(\"\\nData in employees table after updates:\")\n",
    "print(df)"
   ]
  },
  {
   "cell_type": "code",
   "execution_count": 10,
   "id": "066b0bce",
   "metadata": {},
   "outputs": [],
   "source": [
    "# DDL: Drop the table\n",
    "cursor.execute(\"DROP TABLE employees\")\n",
    "conn.commit()"
   ]
  },
  {
   "cell_type": "code",
   "execution_count": 11,
   "id": "22d97b59",
   "metadata": {},
   "outputs": [
    {
     "name": "stdout",
     "output_type": "stream",
     "text": [
      "\n",
      "The employees table has been dropped.\n",
      "Error: Execution failed on sql 'SELECT * FROM employees': no such table: employees\n"
     ]
    }
   ],
   "source": [
    "\n",
    "# Verify the table has been dropped\n",
    "try:\n",
    "    df = pd.read_sql_query(\"SELECT * FROM employees\", conn)\n",
    "except Exception as e:\n",
    "    print(\"\\nThe employees table has been dropped.\")\n",
    "    print(f\"Error: {e}\")\n"
   ]
  },
  {
   "cell_type": "code",
   "execution_count": 12,
   "id": "70f4233c",
   "metadata": {},
   "outputs": [],
   "source": [
    "\n",
    "# Close the connection\n",
    "conn.close()"
   ]
  },
  {
   "cell_type": "code",
   "execution_count": null,
   "id": "462b5bd2",
   "metadata": {},
   "outputs": [],
   "source": []
  }
 ],
 "metadata": {
  "kernelspec": {
   "display_name": "Python 3 (ipykernel)",
   "language": "python",
   "name": "python3"
  },
  "language_info": {
   "codemirror_mode": {
    "name": "ipython",
    "version": 3
   },
   "file_extension": ".py",
   "mimetype": "text/x-python",
   "name": "python",
   "nbconvert_exporter": "python",
   "pygments_lexer": "ipython3",
   "version": "3.11.4"
  }
 },
 "nbformat": 4,
 "nbformat_minor": 5
}
