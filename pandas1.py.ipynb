{
 "cells": [
  {
   "cell_type": "code",
   "execution_count": 1,
   "id": "50cecac9",
   "metadata": {},
   "outputs": [
    {
     "name": "stdout",
     "output_type": "stream",
     "text": [
      "Series from list with new values:\n",
      "a    100\n",
      "b    200\n",
      "c    300\n",
      "d    400\n",
      "dtype: int64\n"
     ]
    }
   ],
   "source": [
    "import pandas as pd\n",
    "\n",
    "# Create a Series from a list with new values\n",
    "data = [100, 200, 300, 400]\n",
    "s = pd.Series(data, index=[\"a\", \"b\", \"c\", \"d\"])\n",
    "\n",
    "print(\"Series from list with new values:\")\n",
    "print(s)\n"
   ]
  },
  {
   "cell_type": "code",
   "execution_count": 2,
   "id": "16b490a3",
   "metadata": {},
   "outputs": [
    {
     "name": "stdout",
     "output_type": "stream",
     "text": [
      "Series from array:\n",
      "x    1.1\n",
      "y    2.2\n",
      "z    3.3\n",
      "w    4.4\n",
      "dtype: float64\n"
     ]
    }
   ],
   "source": [
    "import numpy as np\n",
    "\n",
    "# Create a Series from a NumPy array\n",
    "array_data = np.array([1.1, 2.2, 3.3, 4.4])\n",
    "s_from_array = pd.Series(array_data, index=[\"x\", \"y\", \"z\", \"w\"])\n",
    "\n",
    "print(\"Series from array:\")\n",
    "print(s_from_array)"
   ]
  },
  {
   "cell_type": "code",
   "execution_count": 3,
   "id": "1ca43750",
   "metadata": {},
   "outputs": [
    {
     "name": "stdout",
     "output_type": "stream",
     "text": [
      "Series from dictionary with new names and values:\n",
      "Orange    150\n",
      "Grapes    250\n",
      "Mango     350\n",
      "dtype: int64\n"
     ]
    }
   ],
   "source": [
    "import pandas as pd\n",
    "\n",
    "# Create a Series from a dictionary with new names and values\n",
    "dict_data = {\"Orange\": 150, \"Grapes\": 250, \"Mango\": 350}\n",
    "s_from_dict = pd.Series(dict_data)\n",
    "\n",
    "print(\"Series from dictionary with new names and values:\")\n",
    "print(s_from_dict)\n"
   ]
  },
  {
   "cell_type": "code",
   "execution_count": 4,
   "id": "c9d1a0d5",
   "metadata": {},
   "outputs": [
    {
     "name": "stdout",
     "output_type": "stream",
     "text": [
      "Index: Index(['a', 'b', 'c', 'd'], dtype='object')\n",
      "Values: [100 200 300 400]\n",
      "Data type: int64\n",
      "Size: 4\n"
     ]
    }
   ],
   "source": [
    "# Example: Exploring Series attributes\n",
    "print(\"Index:\", s.index)\n",
    "print(\"Values:\", s.values)\n",
    "print(\"Data type:\", s.dtype)\n",
    "print(\"Size:\", s.size)"
   ]
  },
  {
   "cell_type": "code",
   "execution_count": 5,
   "id": "41c8cbdb",
   "metadata": {},
   "outputs": [
    {
     "name": "stdout",
     "output_type": "stream",
     "text": [
      "First two elements: a    100\n",
      "b    200\n",
      "dtype: int64\n",
      "Last two elements: c    300\n",
      "d    400\n",
      "dtype: int64\n",
      "Sorted values: a    100\n",
      "b    200\n",
      "c    300\n",
      "d    400\n",
      "dtype: int64\n",
      "Mean of the Series: 250.0\n"
     ]
    }
   ],
   "source": [
    "# Example: Using Series methods\n",
    "print(\"First two elements:\", s.head(2))\n",
    "print(\"Last two elements:\", s.tail(2))\n",
    "print(\"Sorted values:\", s.sort_values())\n",
    "print(\"Mean of the Series:\", s.mean())"
   ]
  },
  {
   "cell_type": "code",
   "execution_count": 6,
   "id": "1f5815bd",
   "metadata": {},
   "outputs": [
    {
     "name": "stdout",
     "output_type": "stream",
     "text": [
      "day1    500\n",
      "day2    450\n",
      "dtype: int64\n"
     ]
    }
   ],
   "source": [
    "import pandas as pd\n",
    "\n",
    "# Create a dictionary with new values\n",
    "calories = {\"day1\": 500, \"day2\": 450, \"day3\": 470}\n",
    "\n",
    "# Create a Series from the dictionary with specified index\n",
    "myvar = pd.Series(calories, index=[\"day1\", \"day2\"])\n",
    "\n",
    "print(myvar)\n"
   ]
  },
  {
   "cell_type": "code",
   "execution_count": null,
   "id": "a25c6448",
   "metadata": {},
   "outputs": [],
   "source": []
  }
 ],
 "metadata": {
  "kernelspec": {
   "display_name": "Python 3 (ipykernel)",
   "language": "python",
   "name": "python3"
  },
  "language_info": {
   "codemirror_mode": {
    "name": "ipython",
    "version": 3
   },
   "file_extension": ".py",
   "mimetype": "text/x-python",
   "name": "python",
   "nbconvert_exporter": "python",
   "pygments_lexer": "ipython3",
   "version": "3.11.4"
  }
 },
 "nbformat": 4,
 "nbformat_minor": 5
}
