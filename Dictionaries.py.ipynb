{
 "cells": [
  {
   "cell_type": "code",
   "execution_count": 1,
   "id": "51f4faa2",
   "metadata": {},
   "outputs": [],
   "source": [
    "# Creating an empty dictionary\n",
    "my_dict = {}\n",
    "\n",
    "# Creating a dictionary with initial key-value pairs\n",
    "my_dict = {\n",
    "    'name': 'Roshan',\n",
    "    'age': 19,\n",
    "    'city': 'India'\n",
    "}\n"
   ]
  },
  {
   "cell_type": "code",
   "execution_count": 2,
   "id": "d0c86441",
   "metadata": {},
   "outputs": [],
   "source": [
    "# Accessing a value by its key\n",
    "name = my_dict['name']  # Output: 'Roshan'\n",
    "\n",
    "# Using the `get` method to access a value\n",
    "age = my_dict.get('age')  # Output: 19\n"
   ]
  },
  {
   "cell_type": "code",
   "execution_count": 3,
   "id": "58011ed6",
   "metadata": {},
   "outputs": [],
   "source": [
    "# Adding a new key-value pair\n",
    "my_dict['email'] = 'roshan@gmail.com'\n",
    "\n",
    "# Updating an existing key-value pair\n",
    "my_dict['age'] = 19\n"
   ]
  },
  {
   "cell_type": "code",
   "execution_count": 4,
   "id": "58da5073",
   "metadata": {},
   "outputs": [],
   "source": [
    "# Using `pop` method\n",
    "email = my_dict.pop('email')  # Removes and returns the value associated with 'email'\n",
    "\n",
    "# Using `del` statement\n",
    "del my_dict['city']  # Removes the key-value pair for 'city'\n"
   ]
  },
  {
   "cell_type": "code",
   "execution_count": 5,
   "id": "0c761eb8",
   "metadata": {},
   "outputs": [
    {
     "name": "stdout",
     "output_type": "stream",
     "text": [
      "name\n",
      "age\n",
      "Roshan\n",
      "19\n",
      "name: Roshan\n",
      "age: 19\n"
     ]
    }
   ],
   "source": [
    "# Iterating over keys\n",
    "for key in my_dict:\n",
    "    print(key)\n",
    "\n",
    "# Iterating over values\n",
    "for value in my_dict.values():\n",
    "    print(value)\n",
    "\n",
    "# Iterating over key-value pairs\n",
    "for key, value in my_dict.items():\n",
    "    print(f\"{key}: {value}\")\n"
   ]
  },
  {
   "cell_type": "code",
   "execution_count": 6,
   "id": "6ef3c586",
   "metadata": {},
   "outputs": [
    {
     "name": "stdout",
     "output_type": "stream",
     "text": [
      "Name is a key in the dictionary\n"
     ]
    }
   ],
   "source": [
    "if 'name' in my_dict:\n",
    "    print(\"Name is a key in the dictionary\")\n"
   ]
  },
  {
   "cell_type": "code",
   "execution_count": 7,
   "id": "45997aaf",
   "metadata": {},
   "outputs": [],
   "source": [
    "# Creating a dictionary using a dictionary comprehension\n",
    "squares = {x: x*x for x in range(6)}  # Output: {0: 0, 1: 1, 2: 4, 3: 9, 4: 16, 5: 25}\n"
   ]
  },
  {
   "cell_type": "code",
   "execution_count": 8,
   "id": "6c5d0378",
   "metadata": {},
   "outputs": [
    {
     "name": "stdout",
     "output_type": "stream",
     "text": [
      "Student Grades:\n",
      "Roshan: A\n",
      "Michael: A\n",
      "Jessica: A-\n",
      "Sophia: A+\n"
     ]
    }
   ],
   "source": [
    "# Creating a dictionary of student grades\n",
    "grades = {\n",
    "    'Roshan': 'A',\n",
    "    'Michael': 'B+',\n",
    "    'Jessica': 'A-',\n",
    "    'Daniel': 'B'\n",
    "}\n",
    "\n",
    "# Adding a new student's grade\n",
    "grades['Sophia'] = 'A+'\n",
    "\n",
    "# Updating a student's grade\n",
    "grades['Michael'] = 'A'\n",
    "\n",
    "# Removing a student's grade\n",
    "del grades['Daniel']\n",
    "\n",
    "# Accessing a student's grade\n",
    "emily_grade = grades.get('Emily')\n",
    "\n",
    "print(\"Student Grades:\")\n",
    "for student, grade in grades.items():\n",
    "    print(f\"{student}: {grade}\")\n"
   ]
  },
  {
   "cell_type": "code",
   "execution_count": 9,
   "id": "5fd03e3d",
   "metadata": {},
   "outputs": [
    {
     "name": "stdout",
     "output_type": "stream",
     "text": [
      "Inventory:\n",
      "Apples: 70\n",
      "Oranges: 30\n",
      "Bananas: 100\n",
      "Pears: 25\n"
     ]
    }
   ],
   "source": [
    "# Creating an inventory dictionary\n",
    "inventory = {\n",
    "    'Apples': 50,\n",
    "    'Oranges': 30,\n",
    "    'Bananas': 100,\n",
    "    'Grapes': 75\n",
    "}\n",
    "\n",
    "# Adding new items to the inventory\n",
    "inventory['Pears'] = 25\n",
    "\n",
    "# Updating the quantity of an item\n",
    "inventory['Apples'] += 20\n",
    "\n",
    "# Removing an item from the inventory\n",
    "del inventory['Grapes']\n",
    "\n",
    "# Accessing the quantity of an item\n",
    "bananas_quantity = inventory.get('Bananas')\n",
    "\n",
    "print(\"Inventory:\")\n",
    "for item, quantity in inventory.items():\n",
    "    print(f\"{item}: {quantity}\")\n"
   ]
  },
  {
   "cell_type": "code",
   "execution_count": null,
   "id": "10efb053",
   "metadata": {},
   "outputs": [],
   "source": []
  }
 ],
 "metadata": {
  "kernelspec": {
   "display_name": "Python 3 (ipykernel)",
   "language": "python",
   "name": "python3"
  },
  "language_info": {
   "codemirror_mode": {
    "name": "ipython",
    "version": 3
   },
   "file_extension": ".py",
   "mimetype": "text/x-python",
   "name": "python",
   "nbconvert_exporter": "python",
   "pygments_lexer": "ipython3",
   "version": "3.11.4"
  }
 },
 "nbformat": 4,
 "nbformat_minor": 5
}
