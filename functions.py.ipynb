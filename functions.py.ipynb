{
 "cells": [
  {
   "cell_type": "code",
   "execution_count": 1,
   "id": "5383b91b",
   "metadata": {},
   "outputs": [],
   "source": [
    "%load_ext sql\n"
   ]
  },
  {
   "cell_type": "code",
   "execution_count": 2,
   "id": "e60b7d19",
   "metadata": {},
   "outputs": [],
   "source": [
    "%sql sqlite:///example.db\n"
   ]
  },
  {
   "cell_type": "code",
   "execution_count": 3,
   "id": "dd127ece",
   "metadata": {},
   "outputs": [
    {
     "name": "stdout",
     "output_type": "stream",
     "text": [
      " * sqlite:///example.db\n",
      "Done.\n",
      "1 rows affected.\n",
      "1 rows affected.\n"
     ]
    },
    {
     "data": {
      "text/plain": [
       "[]"
      ]
     },
     "execution_count": 3,
     "metadata": {},
     "output_type": "execute_result"
    }
   ],
   "source": [
    "%%sql\n",
    "CREATE TABLE IF NOT EXISTS employees (\n",
    "    id INTEGER PRIMARY KEY,\n",
    "    name TEXT NOT NULL,\n",
    "    salary REAL\n",
    ");\n",
    "\n",
    "INSERT INTO employees (name, salary) VALUES ('John Doe', 50000);\n",
    "INSERT INTO employees (name, salary) VALUES ('Jane Doe', 60000);\n"
   ]
  },
  {
   "cell_type": "code",
   "execution_count": 4,
   "id": "6c329a58",
   "metadata": {},
   "outputs": [
    {
     "name": "stdout",
     "output_type": "stream",
     "text": [
      " * sqlite:///example.db\n",
      "Done.\n"
     ]
    },
    {
     "data": {
      "text/plain": [
       "[]"
      ]
     },
     "execution_count": 4,
     "metadata": {},
     "output_type": "execute_result"
    }
   ],
   "source": [
    "%%sql\n",
    "CREATE TRIGGER IF NOT EXISTS update_salary \n",
    "AFTER UPDATE ON employees \n",
    "BEGIN\n",
    "    UPDATE employees \n",
    "    SET salary = NEW.salary * 1.1\n",
    "    WHERE id = NEW.id;\n",
    "END;\n"
   ]
  },
  {
   "cell_type": "code",
   "execution_count": 5,
   "id": "b5b206d6",
   "metadata": {},
   "outputs": [
    {
     "name": "stdout",
     "output_type": "stream",
     "text": [
      "(1, 'John Doe', 50000.0, 5000.0)\n",
      "(2, 'Jane Doe', 60000.0, 6000.0)\n"
     ]
    }
   ],
   "source": [
    "#Create function\n",
    "import sqlite3\n",
    "\n",
    "# Connect to the database\n",
    "conn = sqlite3.connect('example.db')\n",
    "\n",
    "# Define a custom function\n",
    "def calculate_bonus(salary):\n",
    "    return salary * 0.1\n",
    "\n",
    "# Register the function with SQLite\n",
    "conn.create_function('calculate_bonus', 1, calculate_bonus)\n",
    "\n",
    "# Use the custom function in an SQL query\n",
    "query = \"SELECT id, name, salary, calculate_bonus(salary) as bonus FROM employees\"\n",
    "result = conn.execute(query).fetchall()\n",
    "\n",
    "# Display the result\n",
    "for row in result:\n",
    "    print(row)\n",
    "\n",
    "# Close the connection\n",
    "conn.close()\n"
   ]
  },
  {
   "cell_type": "code",
   "execution_count": 6,
   "id": "bfad8e4a",
   "metadata": {},
   "outputs": [
    {
     "name": "stdout",
     "output_type": "stream",
     "text": [
      "ID: 1, Name: John Doe, Salary: 50000.0\n",
      "ID: 2, Name: Jane Doe, Salary: 60000.0\n"
     ]
    }
   ],
   "source": [
    "#using cursors\n",
    "import sqlite3\n",
    "\n",
    "# Connect to the database\n",
    "conn = sqlite3.connect('example.db')\n",
    "cursor = conn.cursor()\n",
    "\n",
    "# Execute a query\n",
    "cursor.execute(\"SELECT id, name, salary FROM employees\")\n",
    "\n",
    "# Use the cursor to fetch data\n",
    "rows = cursor.fetchall()\n",
    "\n",
    "# Iterate through the rows\n",
    "for row in rows:\n",
    "    print(f\"ID: {row[0]}, Name: {row[1]}, Salary: {row[2]}\")\n",
    "\n",
    "# Close the cursor and the connection\n",
    "cursor.close()\n",
    "conn.close()\n"
   ]
  },
  {
   "cell_type": "code",
   "execution_count": null,
   "id": "d6a82d56",
   "metadata": {},
   "outputs": [],
   "source": []
  }
 ],
 "metadata": {
  "kernelspec": {
   "display_name": "Python 3 (ipykernel)",
   "language": "python",
   "name": "python3"
  },
  "language_info": {
   "codemirror_mode": {
    "name": "ipython",
    "version": 3
   },
   "file_extension": ".py",
   "mimetype": "text/x-python",
   "name": "python",
   "nbconvert_exporter": "python",
   "pygments_lexer": "ipython3",
   "version": "3.11.4"
  }
 },
 "nbformat": 4,
 "nbformat_minor": 5
}
