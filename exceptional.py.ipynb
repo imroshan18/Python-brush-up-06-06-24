{
 "cells": [
  {
   "cell_type": "code",
   "execution_count": 2,
   "id": "11ee90fe",
   "metadata": {},
   "outputs": [
    {
     "name": "stdout",
     "output_type": "stream",
     "text": [
      "Enter a value:5\n",
      "Enter b value:4\n",
      "Answer :  1.25\n"
     ]
    }
   ],
   "source": [
    "#Exceptional handling in python\n",
    "#error\n",
    "#1) Run time error\n",
    "\n",
    "a = int(input(\"Enter a value:\"))\n",
    "b = int(input(\"Enter b value:\"))\n",
    "d = a/b\n",
    "print('Answer : ',d)"
   ]
  },
  {
   "cell_type": "code",
   "execution_count": 3,
   "id": "ab4595b2",
   "metadata": {},
   "outputs": [
    {
     "name": "stdout",
     "output_type": "stream",
     "text": [
      "Enter a value:4\n",
      "Enter b value:0\n"
     ]
    },
    {
     "ename": "ZeroDivisionError",
     "evalue": "division by zero",
     "output_type": "error",
     "traceback": [
      "\u001b[1;31m---------------------------------------------------------------------------\u001b[0m",
      "\u001b[1;31mZeroDivisionError\u001b[0m                         Traceback (most recent call last)",
      "Cell \u001b[1;32mIn[3], line 3\u001b[0m\n\u001b[0;32m      1\u001b[0m a \u001b[38;5;241m=\u001b[39m \u001b[38;5;28mint\u001b[39m(\u001b[38;5;28minput\u001b[39m(\u001b[38;5;124m\"\u001b[39m\u001b[38;5;124mEnter a value:\u001b[39m\u001b[38;5;124m\"\u001b[39m))\n\u001b[0;32m      2\u001b[0m b \u001b[38;5;241m=\u001b[39m \u001b[38;5;28mint\u001b[39m(\u001b[38;5;28minput\u001b[39m(\u001b[38;5;124m\"\u001b[39m\u001b[38;5;124mEnter b value:\u001b[39m\u001b[38;5;124m\"\u001b[39m))\n\u001b[1;32m----> 3\u001b[0m d \u001b[38;5;241m=\u001b[39m a\u001b[38;5;241m/\u001b[39mb\n\u001b[0;32m      4\u001b[0m \u001b[38;5;28mprint\u001b[39m(\u001b[38;5;124m'\u001b[39m\u001b[38;5;124mAnswer : \u001b[39m\u001b[38;5;124m'\u001b[39m,d)\n",
      "\u001b[1;31mZeroDivisionError\u001b[0m: division by zero"
     ]
    }
   ],
   "source": [
    "a = int(input(\"Enter a value:\"))\n",
    "b = int(input(\"Enter b value:\"))\n",
    "d = a/b\n",
    "print('Answer : ',d)\n",
    "\n",
    "#This is runtime error"
   ]
  },
  {
   "cell_type": "code",
   "execution_count": 4,
   "id": "b2f51479",
   "metadata": {},
   "outputs": [
    {
     "name": "stdout",
     "output_type": "stream",
     "text": [
      "Enter a value:4\n",
      "Enter b value:0\n",
      "May be invalid input\n",
      "HelloWorld\n"
     ]
    }
   ],
   "source": [
    "a = int(input(\"Enter a value:\"))\n",
    "b = int(input(\"Enter b value:\"))\n",
    "\n",
    "try: \n",
    "    d = a/b\n",
    "except:\n",
    "    print('May be invalid input')\n",
    "    \n",
    "print(\"HelloWorld\")"
   ]
  },
  {
   "cell_type": "code",
   "execution_count": 5,
   "id": "5a9690bf",
   "metadata": {},
   "outputs": [
    {
     "ename": "IndentationError",
     "evalue": "expected an indented block after 'try' statement on line 1 (809439522.py, line 3)",
     "output_type": "error",
     "traceback": [
      "\u001b[1;36m  Cell \u001b[1;32mIn[5], line 3\u001b[1;36m\u001b[0m\n\u001b[1;33m    except:\u001b[0m\n\u001b[1;37m    ^\u001b[0m\n\u001b[1;31mIndentationError\u001b[0m\u001b[1;31m:\u001b[0m expected an indented block after 'try' statement on line 1\n"
     ]
    }
   ],
   "source": [
    "try:\n",
    "    #The code which might throw errors\n",
    "except:\n",
    "    #handling the error\n",
    "finally:\n",
    "    #no matter what this block will execute "
   ]
  },
  {
   "cell_type": "code",
   "execution_count": 6,
   "id": "031d7f63",
   "metadata": {},
   "outputs": [
    {
     "name": "stdout",
     "output_type": "stream",
     "text": [
      "Enter a value :4\n",
      "Enter b value :0\n",
      "Denominator cannot be zero\n",
      "I am finally block, i dont care anyone\n"
     ]
    }
   ],
   "source": [
    "try:\n",
    "    a = int(input('Enter a value :'))\n",
    "    b = int(input('Enter b value :'))\n",
    "    c = a/b\n",
    "    print('division: ',c)\n",
    "    \n",
    "except:\n",
    "    print('Denominator cannot be zero')\n",
    "    \n",
    "finally:\n",
    "    print('I am finally block, i dont care anyone')"
   ]
  },
  {
   "cell_type": "code",
   "execution_count": null,
   "id": "ac0180ff",
   "metadata": {},
   "outputs": [],
   "source": []
  }
 ],
 "metadata": {
  "kernelspec": {
   "display_name": "Python 3 (ipykernel)",
   "language": "python",
   "name": "python3"
  },
  "language_info": {
   "codemirror_mode": {
    "name": "ipython",
    "version": 3
   },
   "file_extension": ".py",
   "mimetype": "text/x-python",
   "name": "python",
   "nbconvert_exporter": "python",
   "pygments_lexer": "ipython3",
   "version": "3.11.4"
  }
 },
 "nbformat": 4,
 "nbformat_minor": 5
}
