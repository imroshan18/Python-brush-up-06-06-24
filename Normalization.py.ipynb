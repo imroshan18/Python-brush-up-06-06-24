{
 "cells": [
  {
   "cell_type": "code",
   "execution_count": 1,
   "id": "422cc423",
   "metadata": {},
   "outputs": [],
   "source": [
    "import sqlite3\n",
    "import pandas as pd"
   ]
  },
  {
   "cell_type": "code",
   "execution_count": 2,
   "id": "16ad1c7a",
   "metadata": {},
   "outputs": [],
   "source": [
    "# Connect to SQLite database (or any other database)\n",
    "conn = sqlite3.connect('example.db')\n",
    "cursor = conn.cursor()\n"
   ]
  },
  {
   "cell_type": "code",
   "execution_count": 3,
   "id": "ac204198",
   "metadata": {},
   "outputs": [
    {
     "data": {
      "text/plain": [
       "<sqlite3.Cursor at 0x27c2b79e0c0>"
      ]
     },
     "execution_count": 3,
     "metadata": {},
     "output_type": "execute_result"
    }
   ],
   "source": [
    "# Create Tables\n",
    "cursor.execute('''\n",
    "CREATE TABLE Customers (\n",
    "    CustomerID INTEGER PRIMARY KEY AUTOINCREMENT,\n",
    "    CustomerName TEXT,\n",
    "    CustomerAddress TEXT\n",
    ");\n",
    "''')"
   ]
  },
  {
   "cell_type": "code",
   "execution_count": 5,
   "id": "7d6fa2ee",
   "metadata": {},
   "outputs": [
    {
     "data": {
      "text/plain": [
       "<sqlite3.Cursor at 0x27c2b79e0c0>"
      ]
     },
     "execution_count": 5,
     "metadata": {},
     "output_type": "execute_result"
    }
   ],
   "source": [
    "cursor.execute('''\n",
    "CREATE TABLE Products (\n",
    "    ProductID INTEGER PRIMARY KEY AUTOINCREMENT,\n",
    "    ProductName TEXT\n",
    ");\n",
    "''')"
   ]
  },
  {
   "cell_type": "code",
   "execution_count": 6,
   "id": "773b5a55",
   "metadata": {},
   "outputs": [
    {
     "data": {
      "text/plain": [
       "<sqlite3.Cursor at 0x27c2b79e0c0>"
      ]
     },
     "execution_count": 6,
     "metadata": {},
     "output_type": "execute_result"
    }
   ],
   "source": [
    "cursor.execute('''\n",
    "CREATE TABLE Orders (\n",
    "    OrderID INTEGER PRIMARY KEY AUTOINCREMENT,\n",
    "    CustomerID INTEGER,\n",
    "    OrderDate DATE,\n",
    "    FOREIGN KEY (CustomerID) REFERENCES Customers(CustomerID)\n",
    ");\n",
    "''')"
   ]
  },
  {
   "cell_type": "code",
   "execution_count": 7,
   "id": "09805a53",
   "metadata": {},
   "outputs": [
    {
     "data": {
      "text/plain": [
       "<sqlite3.Cursor at 0x27c2b79e0c0>"
      ]
     },
     "execution_count": 7,
     "metadata": {},
     "output_type": "execute_result"
    }
   ],
   "source": [
    "cursor.execute('''\n",
    "CREATE TABLE OrderDetails (\n",
    "    OrderID INTEGER,\n",
    "    ProductID INTEGER,\n",
    "    Quantity INTEGER,\n",
    "    PRIMARY KEY (OrderID, ProductID),\n",
    "    FOREIGN KEY (OrderID) REFERENCES Orders(OrderID),\n",
    "    FOREIGN KEY (ProductID) REFERENCES Products(ProductID)\n",
    ");\n",
    "''')"
   ]
  },
  {
   "cell_type": "code",
   "execution_count": 8,
   "id": "c43b0fce",
   "metadata": {},
   "outputs": [
    {
     "data": {
      "text/plain": [
       "<sqlite3.Cursor at 0x27c2b79e0c0>"
      ]
     },
     "execution_count": 8,
     "metadata": {},
     "output_type": "execute_result"
    }
   ],
   "source": [
    "# Insert Sample Data\n",
    "cursor.execute(\"INSERT INTO Customers (CustomerName, CustomerAddress) VALUES ('John Doe', '123 Elm Street')\")\n",
    "cursor.execute(\"INSERT INTO Products (ProductName) VALUES ('Widget')\")\n",
    "cursor.execute(\"INSERT INTO Orders (CustomerID, OrderDate) VALUES (1, '2023-06-19')\")\n",
    "cursor.execute(\"INSERT INTO OrderDetails (OrderID, ProductID, Quantity) VALUES (1, 1, 10)\")"
   ]
  },
  {
   "cell_type": "code",
   "execution_count": 9,
   "id": "7e59cccc",
   "metadata": {},
   "outputs": [],
   "source": [
    "# Commit changes and close connection\n",
    "conn.commit()\n",
    "conn.close()"
   ]
  },
  {
   "cell_type": "code",
   "execution_count": 10,
   "id": "5f9dbb22",
   "metadata": {},
   "outputs": [],
   "source": [
    "# Query the data\n",
    "conn = sqlite3.connect('example.db')\n",
    "df_customers = pd.read_sql_query(\"SELECT * FROM Customers\", conn)\n",
    "df_products = pd.read_sql_query(\"SELECT * FROM Products\", conn)\n",
    "df_orders = pd.read_sql_query(\"SELECT * FROM Orders\", conn)\n",
    "df_order_details = pd.read_sql_query(\"SELECT * FROM OrderDetails\", conn)\n",
    "conn.close()"
   ]
  },
  {
   "cell_type": "code",
   "execution_count": 11,
   "id": "585f26d5",
   "metadata": {},
   "outputs": [
    {
     "data": {
      "text/plain": [
       "(   CustomerID CustomerName CustomerAddress\n",
       " 0           1     John Doe  123 Elm Street,\n",
       "    ProductID ProductName\n",
       " 0          1      Widget,\n",
       "    OrderID  CustomerID   OrderDate\n",
       " 0        1           1  2023-06-19,\n",
       "    OrderID  ProductID  Quantity\n",
       " 0        1          1        10)"
      ]
     },
     "execution_count": 11,
     "metadata": {},
     "output_type": "execute_result"
    }
   ],
   "source": [
    "# Display the data\n",
    "df_customers, df_products, df_orders, df_order_details"
   ]
  },
  {
   "cell_type": "code",
   "execution_count": null,
   "id": "491d7ef3",
   "metadata": {},
   "outputs": [],
   "source": []
  }
 ],
 "metadata": {
  "kernelspec": {
   "display_name": "Python 3 (ipykernel)",
   "language": "python",
   "name": "python3"
  },
  "language_info": {
   "codemirror_mode": {
    "name": "ipython",
    "version": 3
   },
   "file_extension": ".py",
   "mimetype": "text/x-python",
   "name": "python",
   "nbconvert_exporter": "python",
   "pygments_lexer": "ipython3",
   "version": "3.11.4"
  }
 },
 "nbformat": 4,
 "nbformat_minor": 5
}
