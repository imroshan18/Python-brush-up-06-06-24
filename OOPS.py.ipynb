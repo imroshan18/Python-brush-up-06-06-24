{
 "cells": [
  {
   "cell_type": "code",
   "execution_count": 2,
   "id": "720ff4b0",
   "metadata": {},
   "outputs": [
    {
     "name": "stdout",
     "output_type": "stream",
     "text": [
      "This is class\n",
      "10 20\n",
      "12\n"
     ]
    }
   ],
   "source": [
    "#Classes and objects\n",
    "\n",
    "class Kiran:\n",
    "    d=12\n",
    "    print(\"This is class\")\n",
    "    def display(self):\n",
    "        a=10\n",
    "        b=20\n",
    "        print(a,b)\n",
    "obj=Kiran()\n",
    "obj.display()\n",
    "print(obj.d)"
   ]
  },
  {
   "cell_type": "code",
   "execution_count": 9,
   "id": "44d9bb00",
   "metadata": {},
   "outputs": [
    {
     "name": "stdout",
     "output_type": "stream",
     "text": [
      "Brand: apple\n",
      "Battery: 4000mah\n",
      "Ram: 8gb\n",
      "Camera: 40mp\n",
      "price: 900000\n",
      "--------------\n",
      "Brand: oneplus\n",
      "Battery: 4000mah\n",
      "Ram: 8gb\n",
      "Camera: 40mp\n",
      "price: 900000\n",
      "--------------\n"
     ]
    }
   ],
   "source": [
    "class Mobile:\n",
    "    def __init__(self,Brand,battery,ram,camera,price):\n",
    "        self.Brand=Brand\n",
    "        self.battery=battery\n",
    "        self.ram=ram\n",
    "        self.camera=camera\n",
    "        self.price=price\n",
    "    def display(self):\n",
    "        print(\"Brand:\",self.Brand)\n",
    "        print(\"Battery:\",self.battery)\n",
    "        print(\"Ram:\",self.ram)\n",
    "        print(\"Camera:\",self.camera)\n",
    "        print(\"price:\",self.price)\n",
    "        print(\"--------------\")\n",
    "              \n",
    "obj=Mobile(\"apple\",'4000mah','8gb','40mp','900000')\n",
    "obj.display()\n",
    "obj2=Mobile(\"oneplus\",'5000mah','8gb','40mp','900000')\n",
    "obj2.display()\n",
    "\n",
    "              "
   ]
  },
  {
   "cell_type": "code",
   "execution_count": 2,
   "id": "33ba50c9",
   "metadata": {},
   "outputs": [
    {
     "name": "stdout",
     "output_type": "stream",
     "text": [
      "This is init\n",
      "This is method\n"
     ]
    }
   ],
   "source": [
    "class Mobile:\n",
    "    def __init__(self):\n",
    "        print(\"This is init\")\n",
    "    def display(self):\n",
    "        print(\"This is method\")\n",
    "        \n",
    "obj=Mobile()\n",
    "obj.display()\n"
   ]
  },
  {
   "cell_type": "code",
   "execution_count": 4,
   "id": "b47900bf",
   "metadata": {},
   "outputs": [
    {
     "name": "stdout",
     "output_type": "stream",
     "text": [
      "this is child class\n",
      "This is parent class\n"
     ]
    }
   ],
   "source": [
    "#single Inheritance\n",
    "class Parent:\n",
    "    def fun1(self):\n",
    "        print(\"This is parent class\")\n",
    "\n",
    "class Child(Parent):\n",
    "    def fun2(self):\n",
    "        print(\"this is child class\")\n",
    "        \n",
    "obj=Child()\n",
    "obj.fun2()\n",
    "obj.fun1()\n",
    "    "
   ]
  },
  {
   "cell_type": "code",
   "execution_count": 8,
   "id": "42212ef0",
   "metadata": {},
   "outputs": [
    {
     "name": "stdout",
     "output_type": "stream",
     "text": [
      "This is parent class\n",
      "this is child class\n",
      "this is Grandchild class\n"
     ]
    }
   ],
   "source": [
    "#multilevel\n",
    "\n",
    "class Parent:\n",
    "    def fun1(self):\n",
    "        print(\"This is parent class\")\n",
    "\n",
    "class Child(Parent):\n",
    "    def fun2(self):\n",
    "        print(\"this is child class\")\n",
    "        \n",
    "\n",
    "class GrandChild(Child):\n",
    "    def fun3(self):\n",
    "        print(\"this is Grandchild class\")\n",
    "        \n",
    "obj=GrandChild()\n",
    "obj.fun1()\n",
    "obj.fun2()\n",
    "obj.fun3()"
   ]
  },
  {
   "cell_type": "code",
   "execution_count": 13,
   "id": "bcb2f346",
   "metadata": {},
   "outputs": [
    {
     "name": "stdout",
     "output_type": "stream",
     "text": [
      "This is parent class\n",
      "this is child2 class\n"
     ]
    }
   ],
   "source": [
    "#heirarical\n",
    "class Parent:\n",
    "    def fun1(self):\n",
    "        print(\"This is parent class\")\n",
    "\n",
    "class Child1(Parent):\n",
    "    def fun2(self):\n",
    "        print(\"this is child class\")\n",
    "\n",
    "class Child2(Parent):\n",
    "    def fun3(self):\n",
    "        print(\"this is child2 class\")\n",
    "        \n",
    "obj=Child2()\n",
    "obj.fun1()\n",
    "#obj.fun2()\n",
    "obj.fun3()\n"
   ]
  },
  {
   "cell_type": "code",
   "execution_count": 14,
   "id": "86f9d878",
   "metadata": {},
   "outputs": [
    {
     "name": "stdout",
     "output_type": "stream",
     "text": [
      "This is Father class\n",
      "this is Mother class\n",
      "this is child class\n"
     ]
    }
   ],
   "source": [
    "#multiple\n",
    "class Father:\n",
    "    def fun1(self):\n",
    "        print(\"This is Father class\")\n",
    "\n",
    "class Mother:\n",
    "    def fun2(self):\n",
    "        print(\"this is Mother class\")\n",
    "\n",
    "class Child(Father,Mother):\n",
    "    def fun3(self):\n",
    "        print(\"this is child class\")\n",
    "        \n",
    "obj=Child()\n",
    "obj.fun1()\n",
    "obj.fun2()\n",
    "obj.fun3()\n",
    "        \n",
    "\n"
   ]
  },
  {
   "cell_type": "code",
   "execution_count": 20,
   "id": "4d596de4",
   "metadata": {},
   "outputs": [
    {
     "name": "stdout",
     "output_type": "stream",
     "text": [
      "This is class b\n",
      "This is class a\n",
      "this is father class\n"
     ]
    }
   ],
   "source": [
    "#superkeyword\n",
    "class A:\n",
    "    def __init__(self):\n",
    "        print(\"This is class a\")\n",
    "        \n",
    "    def fun1(self):\n",
    "        print(\"this is father class\")\n",
    "\n",
    "class B(A):\n",
    "    def __init__(self):\n",
    "        print(\"This is class b\")\n",
    "        super().__init__()\n",
    "    def fun2(self):\n",
    "        print(\"this is mother class\")\n",
    "        \n",
    "obj=B()\n",
    "obj.fun1()\n",
    "\n",
    "    "
   ]
  },
  {
   "cell_type": "code",
   "execution_count": 23,
   "id": "1d5a40f7",
   "metadata": {},
   "outputs": [
    {
     "name": "stdout",
     "output_type": "stream",
     "text": [
      "8\n"
     ]
    }
   ],
   "source": [
    "#Polimorphism\n",
    "#Method overloading\n",
    "#same class\n",
    "#same function or method names\n",
    "#different parameters\n",
    "\n",
    "\n",
    "class A:\n",
    "    def sum(self,a,b):\n",
    "        return a+b\n",
    "    def sum(self,a,b,c=1):\n",
    "        return a+b+c\n",
    "    \n",
    "obj=A()\n",
    "print(obj.sum(1,2,5))"
   ]
  },
  {
   "cell_type": "code",
   "execution_count": 27,
   "id": "d94f61a7",
   "metadata": {},
   "outputs": [
    {
     "name": "stdout",
     "output_type": "stream",
     "text": [
      "This is class B\n",
      "This is class A\n"
     ]
    }
   ],
   "source": [
    "#method over riding\n",
    "#different classes\n",
    "#same fucntion or method names\n",
    "#different parameters\n",
    "\n",
    "class A:\n",
    "    def display(self):\n",
    "        print(\"This is class A\")\n",
    "        \n",
    "class B(A):\n",
    "    def display(self):\n",
    "        print(\"This is class B\")\n",
    "        super().display()\n",
    "obj=B()\n",
    "obj.display()"
   ]
  },
  {
   "cell_type": "code",
   "execution_count": null,
   "id": "2be7eb28",
   "metadata": {},
   "outputs": [],
   "source": [
    "#abstraction\n",
    "Hide the internal data\n",
    "#encapsulation\n",
    "Binding of data members  and member functions"
   ]
  }
 ],
 "metadata": {
  "kernelspec": {
   "display_name": "Python 3 (ipykernel)",
   "language": "python",
   "name": "python3"
  },
  "language_info": {
   "codemirror_mode": {
    "name": "ipython",
    "version": 3
   },
   "file_extension": ".py",
   "mimetype": "text/x-python",
   "name": "python",
   "nbconvert_exporter": "python",
   "pygments_lexer": "ipython3",
   "version": "3.11.4"
  }
 },
 "nbformat": 4,
 "nbformat_minor": 5
}
