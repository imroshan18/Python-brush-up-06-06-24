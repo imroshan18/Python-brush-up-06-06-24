{
 "cells": [
  {
   "cell_type": "code",
   "execution_count": 2,
   "id": "d4257f06",
   "metadata": {},
   "outputs": [
    {
     "name": "stdout",
     "output_type": "stream",
     "text": [
      "set()\n"
     ]
    }
   ],
   "source": [
    "empty_set = set()\n",
    "print(empty_set)  # Output: set()\n"
   ]
  },
  {
   "cell_type": "code",
   "execution_count": 3,
   "id": "9267888a",
   "metadata": {},
   "outputs": [
    {
     "name": "stdout",
     "output_type": "stream",
     "text": [
      "{1, 2, 3, 4, 5}\n"
     ]
    }
   ],
   "source": [
    "numbers = {1, 2, 3, 4, 5}\n",
    "print(numbers)  # Output: {1, 2, 3, 4, 5}\n"
   ]
  },
  {
   "cell_type": "code",
   "execution_count": 4,
   "id": "f83f1c00",
   "metadata": {},
   "outputs": [
    {
     "name": "stdout",
     "output_type": "stream",
     "text": [
      "{'c', 'a', 'b', 'd'}\n"
     ]
    }
   ],
   "source": [
    "letters = set(['a', 'b', 'c', 'd'])\n",
    "print(letters)  # Output: {'a', 'b', 'c', 'd'}\n"
   ]
  },
  {
   "cell_type": "code",
   "execution_count": 5,
   "id": "8190a167",
   "metadata": {},
   "outputs": [],
   "source": [
    "s = {1, 2, 3}  # Set with elements 1, 2, and 3\n",
    "s = set([1, 2, 3])  # Using the set() constructor\n"
   ]
  },
  {
   "cell_type": "code",
   "execution_count": 6,
   "id": "da216932",
   "metadata": {},
   "outputs": [],
   "source": [
    "s.add(4)\n",
    "s.update([5, 6])\n"
   ]
  },
  {
   "cell_type": "code",
   "execution_count": 7,
   "id": "fd7a69e8",
   "metadata": {},
   "outputs": [],
   "source": [
    "s.remove(4)\n",
    "s.discard(5)\n",
    "element = s.pop()\n",
    "s.clear()\n"
   ]
  },
  {
   "cell_type": "code",
   "execution_count": 8,
   "id": "c287ae3d",
   "metadata": {},
   "outputs": [],
   "source": [
    "s1 = {1, 2, 3}\n",
    "s2 = {3, 4, 5}\n",
    "union_set = s1 | s2\n",
    "intersection_set = s1 & s2\n",
    "difference_set = s1 - s2\n",
    "sym_diff_set = s1 ^ s2\n"
   ]
  },
  {
   "cell_type": "code",
   "execution_count": 9,
   "id": "4465da7a",
   "metadata": {},
   "outputs": [
    {
     "name": "stdout",
     "output_type": "stream",
     "text": [
      "True\n"
     ]
    }
   ],
   "source": [
    "print(2 in s1)  # Output: True\n"
   ]
  },
  {
   "cell_type": "code",
   "execution_count": 10,
   "id": "e62373db",
   "metadata": {},
   "outputs": [],
   "source": [
    "squares = {x**2 for x in range(10)}\n"
   ]
  },
  {
   "cell_type": "code",
   "execution_count": 11,
   "id": "caee590a",
   "metadata": {},
   "outputs": [],
   "source": [
    "s_list = list(s)\n",
    "s_tuple = tuple(s)\n",
    "s_str = str(s)\n"
   ]
  },
  {
   "cell_type": "code",
   "execution_count": 12,
   "id": "6bc7d275",
   "metadata": {},
   "outputs": [],
   "source": [
    "fs = frozenset([1, 2, 3])\n"
   ]
  },
  {
   "cell_type": "code",
   "execution_count": 13,
   "id": "dd78591a",
   "metadata": {},
   "outputs": [
    {
     "name": "stdout",
     "output_type": "stream",
     "text": [
      "{1, 2, 3, 4, 5}\n"
     ]
    }
   ],
   "source": [
    "numbers_list = [1, 2, 2, 3, 4, 4, 5]\n",
    "unique_numbers = set(numbers_list)\n",
    "print(unique_numbers)  # Output: {1, 2, 3, 4, 5}\n"
   ]
  },
  {
   "cell_type": "code",
   "execution_count": 14,
   "id": "490bbdf4",
   "metadata": {},
   "outputs": [
    {
     "name": "stdout",
     "output_type": "stream",
     "text": [
      "frozenset({1, 2, 3, 4, 5})\n"
     ]
    }
   ],
   "source": [
    "frozen_numbers = frozenset([1, 2, 3, 4, 5])\n",
    "print(frozen_numbers)  # Output: frozenset({1, 2, 3, 4, 5})\n"
   ]
  },
  {
   "cell_type": "code",
   "execution_count": 15,
   "id": "9e1066de",
   "metadata": {},
   "outputs": [
    {
     "name": "stdout",
     "output_type": "stream",
     "text": [
      "{0, 1, 4, 9, 16, 25}\n"
     ]
    }
   ],
   "source": [
    "squared_set = {x**2 for x in range(6)}\n",
    "print(squared_set)  # Output: {0, 1, 4, 9, 16, 25}\n"
   ]
  },
  {
   "cell_type": "code",
   "execution_count": 17,
   "id": "9c78fa2e",
   "metadata": {},
   "outputs": [
    {
     "ename": "NameError",
     "evalue": "name 'set1' is not defined",
     "output_type": "error",
     "traceback": [
      "\u001b[1;31m---------------------------------------------------------------------------\u001b[0m",
      "\u001b[1;31mNameError\u001b[0m                                 Traceback (most recent call last)",
      "Cell \u001b[1;32mIn[17], line 1\u001b[0m\n\u001b[1;32m----> 1\u001b[0m difference_set \u001b[38;5;241m=\u001b[39m set1 \u001b[38;5;241m-\u001b[39m set2\n\u001b[0;32m      2\u001b[0m \u001b[38;5;28mprint\u001b[39m(difference_set)\n",
      "\u001b[1;31mNameError\u001b[0m: name 'set1' is not defined"
     ]
    }
   ],
   "source": [
    "\n"
   ]
  },
  {
   "cell_type": "code",
   "execution_count": null,
   "id": "d76f39a9",
   "metadata": {},
   "outputs": [],
   "source": []
  }
 ],
 "metadata": {
  "kernelspec": {
   "display_name": "Python 3 (ipykernel)",
   "language": "python",
   "name": "python3"
  },
  "language_info": {
   "codemirror_mode": {
    "name": "ipython",
    "version": 3
   },
   "file_extension": ".py",
   "mimetype": "text/x-python",
   "name": "python",
   "nbconvert_exporter": "python",
   "pygments_lexer": "ipython3",
   "version": "3.11.4"
  }
 },
 "nbformat": 4,
 "nbformat_minor": 5
}
