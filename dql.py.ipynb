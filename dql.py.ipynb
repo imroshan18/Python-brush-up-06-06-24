{
 "cells": [
  {
   "cell_type": "code",
   "execution_count": 1,
   "id": "53cde8d3",
   "metadata": {},
   "outputs": [],
   "source": [
    "# Import necessary libraries\n",
    "import sqlite3\n",
    "import pandas as pd"
   ]
  },
  {
   "cell_type": "code",
   "execution_count": 2,
   "id": "6461fc69",
   "metadata": {},
   "outputs": [],
   "source": [
    "# Create an in-memory SQLite database\n",
    "conn = sqlite3.connect(':memory:')\n",
    "cursor = conn.cursor()"
   ]
  },
  {
   "cell_type": "code",
   "execution_count": 3,
   "id": "e25c387b",
   "metadata": {},
   "outputs": [
    {
     "data": {
      "text/plain": [
       "<sqlite3.Cursor at 0x1e78c9bde40>"
      ]
     },
     "execution_count": 3,
     "metadata": {},
     "output_type": "execute_result"
    }
   ],
   "source": [
    "# Create the sales table\n",
    "cursor.execute('''\n",
    "CREATE TABLE sales (\n",
    "    sale_id INTEGER PRIMARY KEY,\n",
    "    product_id INTEGER,\n",
    "    customer_id INTEGER,\n",
    "    sale_date TEXT,\n",
    "    amount REAL,\n",
    "    quantity INTEGER\n",
    ")\n",
    "''')"
   ]
  },
  {
   "cell_type": "code",
   "execution_count": 4,
   "id": "3dfa6ffa",
   "metadata": {},
   "outputs": [],
   "source": [
    "# Insert sample data into the sales table\n",
    "sales_data = [\n",
    "    (1, 101, 1, '2023-01-01', 100, 2),\n",
    "    (2, 102, 2, '2023-01-02', 150, 3),\n",
    "    (3, 101, 1, '2023-01-03', 200, 1),\n",
    "    (4, 103, 3, '2023-01-04', 300, 4),\n",
    "    (5, 102, 2, '2023-01-05', 100, 1),\n",
    "    (6, 101, 1, '2023-01-06', 250, 2)\n",
    "]\n",
    "cursor.executemany('INSERT INTO sales VALUES (?, ?, ?, ?, ?, ?)', sales_data)\n",
    "conn.commit()"
   ]
  },
  {
   "cell_type": "code",
   "execution_count": 5,
   "id": "4588f871",
   "metadata": {},
   "outputs": [
    {
     "name": "stdout",
     "output_type": "stream",
     "text": [
      "Sales Table Data:\n",
      "   sale_id  product_id  customer_id   sale_date  amount  quantity\n",
      "0        1         101            1  2023-01-01   100.0         2\n",
      "1        2         102            2  2023-01-02   150.0         3\n",
      "2        3         101            1  2023-01-03   200.0         1\n",
      "3        4         103            3  2023-01-04   300.0         4\n",
      "4        5         102            2  2023-01-05   100.0         1\n",
      "5        6         101            1  2023-01-06   250.0         2\n"
     ]
    }
   ],
   "source": [
    "\n",
    "# Query to show all data in sales table\n",
    "df = pd.read_sql_query('SELECT * FROM sales', conn)\n",
    "print(\"Sales Table Data:\")\n",
    "print(df)"
   ]
  },
  {
   "cell_type": "code",
   "execution_count": 8,
   "id": "c629b276",
   "metadata": {},
   "outputs": [
    {
     "name": "stdout",
     "output_type": "stream",
     "text": [
      "\n",
      "Total Sales Amount per Product:\n",
      "   product_id  total_sales\n",
      "0         101        550.0\n",
      "1         102        250.0\n",
      "2         103        300.0\n"
     ]
    }
   ],
   "source": [
    "# GROUP BY Example: Total Sales Amount per Product\n",
    "query1 = '''\n",
    "SELECT product_id, SUM(amount) as total_sales\n",
    "FROM sales\n",
    "GROUP BY product_id\n",
    "'''\n",
    "df1 = pd.read_sql_query(query1, conn)\n",
    "print(\"\\nTotal Sales Amount per Product:\")\n",
    "print(df1)"
   ]
  },
  {
   "cell_type": "code",
   "execution_count": 9,
   "id": "4810f960",
   "metadata": {},
   "outputs": [
    {
     "name": "stdout",
     "output_type": "stream",
     "text": [
      "\n",
      "Sales Ordered by Amount:\n",
      "   sale_id  product_id  customer_id   sale_date  amount  quantity\n",
      "0        4         103            3  2023-01-04   300.0         4\n",
      "1        6         101            1  2023-01-06   250.0         2\n",
      "2        3         101            1  2023-01-03   200.0         1\n",
      "3        2         102            2  2023-01-02   150.0         3\n",
      "4        1         101            1  2023-01-01   100.0         2\n",
      "5        5         102            2  2023-01-05   100.0         1\n"
     ]
    }
   ],
   "source": [
    "\n",
    "# ORDER BY Example: List Sales Ordered by Amount\n",
    "query2 = '''\n",
    "SELECT * \n",
    "FROM sales\n",
    "ORDER BY amount DESC\n",
    "'''\n",
    "df2 = pd.read_sql_query(query2, conn)\n",
    "print(\"\\nSales Ordered by Amount:\")\n",
    "print(df2)\n"
   ]
  },
  {
   "cell_type": "code",
   "execution_count": 10,
   "id": "bc89afaf",
   "metadata": {},
   "outputs": [
    {
     "name": "stdout",
     "output_type": "stream",
     "text": [
      "\n",
      "Products with Total Sales Greater Than 300:\n",
      "   product_id  total_sales\n",
      "0         101        550.0\n"
     ]
    }
   ],
   "source": [
    "query3 = '''\n",
    "SELECT product_id, SUM(amount) as total_sales\n",
    "FROM sales\n",
    "GROUP BY product_id\n",
    "HAVING total_sales > 300\n",
    "'''\n",
    "df3 = pd.read_sql_query(query3, conn)\n",
    "print(\"\\nProducts with Total Sales Greater Than 300:\")\n",
    "print(df3)"
   ]
  },
  {
   "cell_type": "code",
   "execution_count": 11,
   "id": "a471c19a",
   "metadata": {},
   "outputs": [
    {
     "name": "stdout",
     "output_type": "stream",
     "text": [
      "\n",
      "Total Sales Amount per Customer, Ordered by Total Sales Descending, Showing Only Customers with Total Sales Greater Than 300:\n",
      "   customer_id  total_sales\n",
      "0            1        550.0\n"
     ]
    }
   ],
   "source": [
    "# Combined Example: Total Sales Amount per Customer, Ordered by Total Sales Descending, Showing Only Customers with Total Sales Greater Than 300\n",
    "query4 = '''\n",
    "SELECT customer_id, SUM(amount) as total_sales\n",
    "FROM sales\n",
    "GROUP BY customer_id\n",
    "HAVING total_sales > 300\n",
    "ORDER BY total_sales DESC\n",
    "'''\n",
    "df4 = pd.read_sql_query(query4, conn)\n",
    "print(\"\\nTotal Sales Amount per Customer, Ordered by Total Sales Descending, Showing Only Customers with Total Sales Greater Than 300:\")\n",
    "print(df4)"
   ]
  },
  {
   "cell_type": "code",
   "execution_count": 12,
   "id": "68439601",
   "metadata": {},
   "outputs": [],
   "source": [
    "\n",
    "# Close the connection\n",
    "conn.close()"
   ]
  },
  {
   "cell_type": "code",
   "execution_count": null,
   "id": "b05c018d",
   "metadata": {},
   "outputs": [],
   "source": []
  }
 ],
 "metadata": {
  "kernelspec": {
   "display_name": "Python 3 (ipykernel)",
   "language": "python",
   "name": "python3"
  },
  "language_info": {
   "codemirror_mode": {
    "name": "ipython",
    "version": 3
   },
   "file_extension": ".py",
   "mimetype": "text/x-python",
   "name": "python",
   "nbconvert_exporter": "python",
   "pygments_lexer": "ipython3",
   "version": "3.11.4"
  }
 },
 "nbformat": 4,
 "nbformat_minor": 5
}
