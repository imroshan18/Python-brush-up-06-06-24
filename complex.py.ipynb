{
 "cells": [
  {
   "cell_type": "code",
   "execution_count": 1,
   "id": "456a94ba",
   "metadata": {},
   "outputs": [],
   "source": [
    "import sqlite3\n",
    "import pandas as pd\n",
    "from datetime import datetime, timedelta"
   ]
  },
  {
   "cell_type": "code",
   "execution_count": 2,
   "id": "10e1062a",
   "metadata": {},
   "outputs": [],
   "source": [
    "# Create a new SQLite database (or connect to an existing one)\n",
    "conn = sqlite3.connect(':memory:')  # Using in-memory database for demonstration\n",
    "cursor = conn.cursor()"
   ]
  },
  {
   "cell_type": "code",
   "execution_count": 3,
   "id": "ceb7e40d",
   "metadata": {},
   "outputs": [
    {
     "data": {
      "text/plain": [
       "<sqlite3.Cursor at 0x25333d72340>"
      ]
     },
     "execution_count": 3,
     "metadata": {},
     "output_type": "execute_result"
    }
   ],
   "source": [
    "# Create sample tables\n",
    "cursor.execute('''\n",
    "CREATE TABLE employees (\n",
    "    employee_id INTEGER PRIMARY KEY,\n",
    "    name TEXT,\n",
    "    department_id INTEGER,\n",
    "    hire_date DATE\n",
    ")\n",
    "''')"
   ]
  },
  {
   "cell_type": "code",
   "execution_count": 4,
   "id": "e81f061d",
   "metadata": {},
   "outputs": [
    {
     "data": {
      "text/plain": [
       "<sqlite3.Cursor at 0x25333d72340>"
      ]
     },
     "execution_count": 4,
     "metadata": {},
     "output_type": "execute_result"
    }
   ],
   "source": [
    "cursor.execute('''\n",
    "CREATE TABLE departments (\n",
    "    department_id INTEGER PRIMARY KEY,\n",
    "    department_name TEXT\n",
    ")\n",
    "''')"
   ]
  },
  {
   "cell_type": "code",
   "execution_count": 5,
   "id": "dcdd9548",
   "metadata": {},
   "outputs": [
    {
     "data": {
      "text/plain": [
       "<sqlite3.Cursor at 0x25333d72340>"
      ]
     },
     "execution_count": 5,
     "metadata": {},
     "output_type": "execute_result"
    }
   ],
   "source": [
    "\n",
    "cursor.execute('''\n",
    "CREATE TABLE salaries (\n",
    "    salary_id INTEGER PRIMARY KEY,\n",
    "    employee_id INTEGER,\n",
    "    salary_amount DECIMAL,\n",
    "    salary_date DATE,\n",
    "    FOREIGN KEY (employee_id) REFERENCES employees(employee_id)\n",
    ")\n",
    "''')"
   ]
  },
  {
   "cell_type": "code",
   "execution_count": 6,
   "id": "ee62ce1c",
   "metadata": {},
   "outputs": [],
   "source": [
    "# Insert sample data\n",
    "employees_data = [\n",
    "    (1, 'Alice', 1, '2020-01-15'),\n",
    "    (2, 'Bob', 2, '2019-03-22'),\n",
    "    (3, 'Charlie', 1, '2021-05-13')\n",
    "]\n",
    "\n",
    "departments_data = [\n",
    "    (1, 'HR'),\n",
    "    (2, 'Engineering')\n",
    "]\n",
    "\n",
    "salaries_data = [\n",
    "    (1, 1, 60000, '2023-01-01'),\n",
    "    (2, 2, 80000, '2023-01-01'),\n",
    "    (3, 3, 55000, '2023-01-01')\n",
    "]\n",
    "\n",
    "cursor.executemany('INSERT INTO employees VALUES (?, ?, ?, ?)', employees_data)\n",
    "cursor.executemany('INSERT INTO departments VALUES (?, ?)', departments_data)\n",
    "cursor.executemany('INSERT INTO salaries VALUES (?, ?, ?, ?)', salaries_data)\n",
    "\n",
    "conn.commit()"
   ]
  },
  {
   "cell_type": "code",
   "execution_count": 7,
   "id": "756d8265",
   "metadata": {},
   "outputs": [],
   "source": [
    "# Query with complex joins, subqueries, and date functions\n",
    "query = '''\n",
    "SELECT\n",
    "    e.name AS employee_name,\n",
    "    d.department_name,\n",
    "    s.salary_amount,\n",
    "    e.hire_date,\n",
    "    (julianday('now') - julianday(e.hire_date)) / 365 AS years_with_company\n",
    "FROM\n",
    "    employees e\n",
    "    INNER JOIN departments d ON e.department_id = d.department_id\n",
    "    LEFT JOIN salaries s ON e.employee_id = s.employee_id\n",
    "WHERE\n",
    "    s.salary_date = (\n",
    "        SELECT\n",
    "            MAX(salary_date)\n",
    "        FROM\n",
    "            salaries\n",
    "        WHERE\n",
    "            employee_id = e.employee_id\n",
    "    )\n",
    "ORDER BY\n",
    "    years_with_company DESC\n",
    "'''"
   ]
  },
  {
   "cell_type": "code",
   "execution_count": 8,
   "id": "9c61ac87",
   "metadata": {},
   "outputs": [],
   "source": [
    "# Execute the query and fetch the results\n",
    "results = pd.read_sql_query(query, conn)"
   ]
  },
  {
   "cell_type": "code",
   "execution_count": 9,
   "id": "5945ce4b",
   "metadata": {},
   "outputs": [
    {
     "name": "stdout",
     "output_type": "stream",
     "text": [
      "  employee_name department_name  salary_amount   hire_date  years_with_company\n",
      "0           Bob     Engineering          80000  2019-03-22            5.253317\n",
      "1         Alice              HR          60000  2020-01-15            4.434139\n",
      "2       Charlie              HR          55000  2021-05-13            3.108111\n"
     ]
    }
   ],
   "source": [
    "# Display the results\n",
    "print(results)"
   ]
  },
  {
   "cell_type": "code",
   "execution_count": 10,
   "id": "7a3fc986",
   "metadata": {},
   "outputs": [],
   "source": [
    "# Close the connection\n",
    "conn.close()"
   ]
  },
  {
   "cell_type": "code",
   "execution_count": null,
   "id": "52b705e4",
   "metadata": {},
   "outputs": [],
   "source": []
  }
 ],
 "metadata": {
  "kernelspec": {
   "display_name": "Python 3 (ipykernel)",
   "language": "python",
   "name": "python3"
  },
  "language_info": {
   "codemirror_mode": {
    "name": "ipython",
    "version": 3
   },
   "file_extension": ".py",
   "mimetype": "text/x-python",
   "name": "python",
   "nbconvert_exporter": "python",
   "pygments_lexer": "ipython3",
   "version": "3.11.4"
  }
 },
 "nbformat": 4,
 "nbformat_minor": 5
}
