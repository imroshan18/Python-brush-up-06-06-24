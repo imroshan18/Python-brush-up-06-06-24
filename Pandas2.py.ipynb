{
 "cells": [
  {
   "cell_type": "code",
   "execution_count": 1,
   "id": "2774e890",
   "metadata": {},
   "outputs": [
    {
     "name": "stdout",
     "output_type": "stream",
     "text": [
      "   calories  duration\n",
      "0       500        60\n",
      "1       450        55\n",
      "2       470        65\n"
     ]
    }
   ],
   "source": [
    "import pandas as pd\n",
    "\n",
    "# Updated data with new values\n",
    "data = {\n",
    "  \"calories\": [500, 450, 470],\n",
    "  \"duration\": [60, 55, 65]\n",
    "}\n",
    "\n",
    "# Load data into a DataFrame object\n",
    "df = pd.DataFrame(data)\n",
    "\n",
    "print(df)\n"
   ]
  },
  {
   "cell_type": "code",
   "execution_count": 2,
   "id": "4d87ca35",
   "metadata": {},
   "outputs": [
    {
     "name": "stdout",
     "output_type": "stream",
     "text": [
      "calories    500\n",
      "duration     60\n",
      "Name: 0, dtype: int64\n"
     ]
    }
   ],
   "source": [
    "#refer to the row index:\n",
    "print(df.loc[0])"
   ]
  },
  {
   "cell_type": "code",
   "execution_count": 3,
   "id": "5bda373c",
   "metadata": {},
   "outputs": [
    {
     "name": "stdout",
     "output_type": "stream",
     "text": [
      "   calories  duration\n",
      "0       500        60\n",
      "1       450        55\n"
     ]
    }
   ],
   "source": [
    "#use a list of indexes:\n",
    "print(df.loc[[0, 1]])"
   ]
  },
  {
   "cell_type": "code",
   "execution_count": 4,
   "id": "59be0a9d",
   "metadata": {},
   "outputs": [
    {
     "name": "stdout",
     "output_type": "stream",
     "text": [
      "      calories  duration\n",
      "day1       500        60\n",
      "day2       450        55\n",
      "day3       470        65\n"
     ]
    }
   ],
   "source": [
    "import pandas as pd\n",
    "\n",
    "# Updated data with new values\n",
    "data = {\n",
    "  \"calories\": [500, 450, 470],\n",
    "  \"duration\": [60, 55, 65]\n",
    "}\n",
    "\n",
    "# Load data into a DataFrame object with named indexes\n",
    "df = pd.DataFrame(data, index=[\"day1\", \"day2\", \"day3\"])\n",
    "\n",
    "print(df)\n"
   ]
  },
  {
   "cell_type": "code",
   "execution_count": 5,
   "id": "4c1de4ef",
   "metadata": {},
   "outputs": [
    {
     "name": "stdout",
     "output_type": "stream",
     "text": [
      "calories    450\n",
      "duration     55\n",
      "Name: day2, dtype: int64\n"
     ]
    }
   ],
   "source": [
    "#refer to the named index:\n",
    "print(df.loc[\"day2\"])"
   ]
  },
  {
   "cell_type": "code",
   "execution_count": 10,
   "id": "c2d7e2b9",
   "metadata": {},
   "outputs": [
    {
     "name": "stdout",
     "output_type": "stream",
     "text": [
      "First few rows of the dataframe:\n"
     ]
    },
    {
     "data": {
      "text/html": [
       "<div>\n",
       "<style scoped>\n",
       "    .dataframe tbody tr th:only-of-type {\n",
       "        vertical-align: middle;\n",
       "    }\n",
       "\n",
       "    .dataframe tbody tr th {\n",
       "        vertical-align: top;\n",
       "    }\n",
       "\n",
       "    .dataframe thead th {\n",
       "        text-align: right;\n",
       "    }\n",
       "</style>\n",
       "<table border=\"1\" class=\"dataframe\">\n",
       "  <thead>\n",
       "    <tr style=\"text-align: right;\">\n",
       "      <th></th>\n",
       "      <th>A</th>\n",
       "      <th>B</th>\n",
       "      <th>C</th>\n",
       "    </tr>\n",
       "  </thead>\n",
       "  <tbody>\n",
       "    <tr>\n",
       "      <th>0</th>\n",
       "      <td>-2.475452</td>\n",
       "      <td>75.687587</td>\n",
       "      <td>Y</td>\n",
       "    </tr>\n",
       "    <tr>\n",
       "      <th>1</th>\n",
       "      <td>0.936251</td>\n",
       "      <td>17.412212</td>\n",
       "      <td>X</td>\n",
       "    </tr>\n",
       "    <tr>\n",
       "      <th>2</th>\n",
       "      <td>-0.979574</td>\n",
       "      <td>20.966394</td>\n",
       "      <td>Y</td>\n",
       "    </tr>\n",
       "    <tr>\n",
       "      <th>3</th>\n",
       "      <td>0.056881</td>\n",
       "      <td>77.518217</td>\n",
       "      <td>Z</td>\n",
       "    </tr>\n",
       "    <tr>\n",
       "      <th>4</th>\n",
       "      <td>-1.339384</td>\n",
       "      <td>3.778324</td>\n",
       "      <td>Y</td>\n",
       "    </tr>\n",
       "  </tbody>\n",
       "</table>\n",
       "</div>"
      ],
      "text/plain": [
       "          A          B  C\n",
       "0 -2.475452  75.687587  Y\n",
       "1  0.936251  17.412212  X\n",
       "2 -0.979574  20.966394  Y\n",
       "3  0.056881  77.518217  Z\n",
       "4 -1.339384   3.778324  Y"
      ]
     },
     "metadata": {},
     "output_type": "display_data"
    },
    {
     "name": "stdout",
     "output_type": "stream",
     "text": [
      "\n",
      "Summary statistics of the dataframe:\n"
     ]
    },
    {
     "data": {
      "text/html": [
       "<div>\n",
       "<style scoped>\n",
       "    .dataframe tbody tr th:only-of-type {\n",
       "        vertical-align: middle;\n",
       "    }\n",
       "\n",
       "    .dataframe tbody tr th {\n",
       "        vertical-align: top;\n",
       "    }\n",
       "\n",
       "    .dataframe thead th {\n",
       "        text-align: right;\n",
       "    }\n",
       "</style>\n",
       "<table border=\"1\" class=\"dataframe\">\n",
       "  <thead>\n",
       "    <tr style=\"text-align: right;\">\n",
       "      <th></th>\n",
       "      <th>A</th>\n",
       "      <th>B</th>\n",
       "    </tr>\n",
       "  </thead>\n",
       "  <tbody>\n",
       "    <tr>\n",
       "      <th>count</th>\n",
       "      <td>100.000000</td>\n",
       "      <td>100.000000</td>\n",
       "    </tr>\n",
       "    <tr>\n",
       "      <th>mean</th>\n",
       "      <td>-0.057076</td>\n",
       "      <td>50.164353</td>\n",
       "    </tr>\n",
       "    <tr>\n",
       "      <th>std</th>\n",
       "      <td>0.892017</td>\n",
       "      <td>28.817087</td>\n",
       "    </tr>\n",
       "    <tr>\n",
       "      <th>min</th>\n",
       "      <td>-2.475452</td>\n",
       "      <td>0.129187</td>\n",
       "    </tr>\n",
       "    <tr>\n",
       "      <th>25%</th>\n",
       "      <td>-0.760288</td>\n",
       "      <td>25.378583</td>\n",
       "    </tr>\n",
       "    <tr>\n",
       "      <th>50%</th>\n",
       "      <td>-0.070963</td>\n",
       "      <td>51.573842</td>\n",
       "    </tr>\n",
       "    <tr>\n",
       "      <th>75%</th>\n",
       "      <td>0.496814</td>\n",
       "      <td>74.625959</td>\n",
       "    </tr>\n",
       "    <tr>\n",
       "      <th>max</th>\n",
       "      <td>2.286224</td>\n",
       "      <td>99.175681</td>\n",
       "    </tr>\n",
       "  </tbody>\n",
       "</table>\n",
       "</div>"
      ],
      "text/plain": [
       "                A           B\n",
       "count  100.000000  100.000000\n",
       "mean    -0.057076   50.164353\n",
       "std      0.892017   28.817087\n",
       "min     -2.475452    0.129187\n",
       "25%     -0.760288   25.378583\n",
       "50%     -0.070963   51.573842\n",
       "75%      0.496814   74.625959\n",
       "max      2.286224   99.175681"
      ]
     },
     "metadata": {},
     "output_type": "display_data"
    },
    {
     "name": "stdout",
     "output_type": "stream",
     "text": [
      "\n",
      "Information about the dataframe:\n",
      "<class 'pandas.core.frame.DataFrame'>\n",
      "RangeIndex: 100 entries, 0 to 99\n",
      "Data columns (total 3 columns):\n",
      " #   Column  Non-Null Count  Dtype  \n",
      "---  ------  --------------  -----  \n",
      " 0   A       100 non-null    float64\n",
      " 1   B       100 non-null    float64\n",
      " 2   C       100 non-null    object \n",
      "dtypes: float64(2), object(1)\n",
      "memory usage: 2.5+ KB\n",
      "\n",
      "Shape of the dataframe:\n",
      "(100, 3)\n",
      "\n",
      "Column names of the dataframe:\n",
      "Index(['A', 'B', 'C'], dtype='object')\n",
      "\n",
      "Missing values in the dataframe:\n",
      "A    0\n",
      "B    0\n",
      "C    0\n",
      "dtype: int64\n",
      "\n",
      "Data types of each column:\n",
      "A    float64\n",
      "B    float64\n",
      "C     object\n",
      "dtype: object\n",
      "\n",
      "Unique values in a specific column:\n",
      "['Y' 'X' 'Z']\n",
      "\n",
      "Count of unique values in a specific column:\n",
      "Y    37\n",
      "Z    32\n",
      "X    31\n",
      "Name: C, dtype: int64\n",
      "\n",
      "Correlation matrix:\n",
      "          A         B\n",
      "A  1.000000 -0.139974\n",
      "B -0.139974  1.000000\n"
     ]
    },
    {
     "name": "stderr",
     "output_type": "stream",
     "text": [
      "C:\\Users\\rosha\\AppData\\Local\\Temp\\ipykernel_26096\\3142383328.py:51: FutureWarning: The default value of numeric_only in DataFrame.corr is deprecated. In a future version, it will default to False. Select only valid columns or specify the value of numeric_only to silence this warning.\n",
      "  print(df.corr())\n"
     ]
    },
    {
     "data": {
      "image/png": "[encoded data removed]",
      "text/plain": [
       "<Figure size 1000x600 with 1 Axes>"
      ]
     },
     "metadata": {},
     "output_type": "display_data"
    },
    {
     "name": "stdout",
     "output_type": "stream",
     "text": [
      "\n",
      "Pairplot of the dataframe:\n"
     ]
    },
    {
     "data": {
      "image/png": "[encoded data removed]",
      "text/plain": [
       "<Figure size 500x500 with 6 Axes>"
      ]
     },
     "metadata": {},
     "output_type": "display_data"
    },
    {
     "name": "stdout",
     "output_type": "stream",
     "text": [
      "\n",
      "Heatmap of the correlation matrix:\n"
     ]
    },
    {
     "name": "stderr",
     "output_type": "stream",
     "text": [
      "C:\\Users\\rosha\\AppData\\Local\\Temp\\ipykernel_26096\\3142383328.py:72: FutureWarning: The default value of numeric_only in DataFrame.corr is deprecated. In a future version, it will default to False. Select only valid columns or specify the value of numeric_only to silence this warning.\n",
      "  sns.heatmap(df.corr(), annot=True, cmap='coolwarm', linewidths=0.5)\n"
     ]
    },
    {
     "data": {
      "image/png": "[encoded data removed]",
      "text/plain": [
       "<Figure size 1200x800 with 2 Axes>"
      ]
     },
     "metadata": {},
     "output_type": "display_data"
    }
   ],
   "source": [
    "# Import necessary libraries\n",
    "import pandas as pd\n",
    "import numpy as np\n",
    "\n",
    "# Create a sample DataFrame\n",
    "data = {\n",
    "    'A': np.random.randn(100),\n",
    "    'B': np.random.rand(100) * 100,\n",
    "    'C': np.random.choice(['X', 'Y', 'Z'], 100)\n",
    "}\n",
    "df = pd.DataFrame(data)\n",
    "\n",
    "# Display the first few rows of the dataframe\n",
    "print(\"First few rows of the dataframe:\")\n",
    "display(df.head())\n",
    "\n",
    "# Display the summary statistics of the dataframe\n",
    "print(\"\\nSummary statistics of the dataframe:\")\n",
    "display(df.describe())\n",
    "\n",
    "# Display the information about the dataframe (including data types and non-null counts)\n",
    "print(\"\\nInformation about the dataframe:\")\n",
    "df.info()\n",
    "\n",
    "# Display the shape of the dataframe (number of rows and columns)\n",
    "print(\"\\nShape of the dataframe:\")\n",
    "print(df.shape)\n",
    "\n",
    "# Display the column names of the dataframe\n",
    "print(\"\\nColumn names of the dataframe:\")\n",
    "print(df.columns)\n",
    "\n",
    "# Check for missing values in the dataframe\n",
    "print(\"\\nMissing values in the dataframe:\")\n",
    "print(df.isnull().sum())\n",
    "\n",
    "# Display the data types of each column\n",
    "print(\"\\nData types of each column:\")\n",
    "print(df.dtypes)\n",
    "\n",
    "# Display unique values for a specific column (replace 'C' with your column)\n",
    "print(\"\\nUnique values in a specific column:\")\n",
    "print(df['C'].unique())\n",
    "\n",
    "# Display the count of unique values for a specific column (replace 'C' with your column)\n",
    "print(\"\\nCount of unique values in a specific column:\")\n",
    "print(df['C'].value_counts())\n",
    "\n",
    "# Display the correlation matrix\n",
    "print(\"\\nCorrelation matrix:\")\n",
    "print(df.corr())\n",
    "\n",
    "# Visualizing the distribution of a specific column (replace 'B' with your column)\n",
    "import matplotlib.pyplot as plt\n",
    "import seaborn as sns\n",
    "\n",
    "plt.figure(figsize=(10, 6))\n",
    "sns.histplot(df['B'], kde=True)\n",
    "plt.title('Distribution of B')\n",
    "plt.xlabel('B')\n",
    "plt.ylabel('Frequency')\n",
    "plt.show()\n",
    "\n",
    "# Visualizing the pairplot of the dataframe\n",
    "print(\"\\nPairplot of the dataframe:\")\n",
    "sns.pairplot(df)\n",
    "plt.show()\n",
    "\n",
    "# Displaying the heatmap of the correlation matrix\n",
    "print(\"\\nHeatmap of the correlation matrix:\")\n",
    "plt.figure(figsize=(12, 8))\n",
    "sns.heatmap(df.corr(), annot=True, cmap='coolwarm', linewidths=0.5)\n",
    "plt.title('Heatmap of Correlation Matrix')\n",
    "plt.show()\n"
   ]
  },
  {
   "cell_type": "code",
   "execution_count": null,
   "id": "8cc00c6e",
   "metadata": {},
   "outputs": [],
   "source": []
  }
 ],
 "metadata": {
  "kernelspec": {
   "display_name": "Python 3 (ipykernel)",
   "language": "python",
   "name": "python3"
  },
  "language_info": {
   "codemirror_mode": {
    "name": "ipython",
    "version": 3
   },
   "file_extension": ".py",
   "mimetype": "text/x-python",
   "name": "python",
   "nbconvert_exporter": "python",
   "pygments_lexer": "ipython3",
   "version": "3.11.4"
  }
 },
 "nbformat": 4,
 "nbformat_minor": 5
}
